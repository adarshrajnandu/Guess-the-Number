{
 "cells": [
  {
   "cell_type": "code",
   "execution_count": 1,
   "metadata": {},
   "outputs": [
    {
     "name": "stdout",
     "output_type": "stream",
     "text": [
      "Please enter your lower limit\n",
      "10\n",
      "Please enter your higher limit\n",
      "100\n",
      "Please enter how many guesses you would like to take\n",
      "10\n",
      "The number you have to guess is between 10 and 100\n",
      "Guess your number\n",
      "50\n",
      "Your guess is too low\n",
      "Guess your number\n",
      "75\n",
      "Your guess is too high\n",
      "Guess your number\n",
      "65\n",
      "Your guess is too high\n",
      "Guess your number\n",
      "55\n",
      "Your guess is too low\n",
      "Guess your number\n",
      "60\n",
      "Your guess is too high\n",
      "Guess your number\n",
      "57\n",
      "Your guess is too low\n",
      "Guess your number\n",
      "58\n",
      "Your guess is too low\n",
      "Guess your number\n",
      "59\n",
      "Congrats you have guessed the correct number in 8 th try\n"
     ]
    }
   ],
   "source": [
    "import random\n",
    "\n",
    "print('Please enter your lower limit')\n",
    "low = int(input())\n",
    "\n",
    "print('Please enter your higher limit')\n",
    "high = int(input())\n",
    "\n",
    "secret_num = random.randint(low, high)\n",
    "\n",
    "print('Please enter how many guesses you would like to take')\n",
    "times = int(input())\n",
    "\n",
    "print('The number you have to guess is between ' + str(low) + ' and ' + str(high))\n",
    "\n",
    "for i in range(1,times):\n",
    "    print('Guess your number')\n",
    "    inp = int(input())\n",
    "    \n",
    "    if inp == secret_num:\n",
    "        break\n",
    "    elif inp < secret_num:\n",
    "        print('Your guess is too low')\n",
    "    elif inp > secret_num:\n",
    "        print('Your guess is too high')\n",
    "    else:\n",
    "        break\n",
    "\n",
    "if inp == secret_num:\n",
    "    print('Congrats you have guessed the correct number in ' + str(i) + \" th try\")\n",
    "else:\n",
    "    print('Sorry you have exceeded the number of tries, the correct num was ' + str(secret_num))"
   ]
  },
  {
   "cell_type": "code",
   "execution_count": null,
   "metadata": {},
   "outputs": [],
   "source": []
  }
 ],
 "metadata": {
  "kernelspec": {
   "display_name": "Python 3",
   "language": "python",
   "name": "python3"
  },
  "language_info": {
   "codemirror_mode": {
    "name": "ipython",
    "version": 3
   },
   "file_extension": ".py",
   "mimetype": "text/x-python",
   "name": "python",
   "nbconvert_exporter": "python",
   "pygments_lexer": "ipython3",
   "version": "3.7.6"
  }
 },
 "nbformat": 4,
 "nbformat_minor": 4
}
