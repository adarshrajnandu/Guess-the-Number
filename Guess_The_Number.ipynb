{
 "cells": [
  {
   "cell_type": "code",
   "execution_count": null,
   "metadata": {},
   "outputs": [],
   "source": [
    "import random\n",
    "\n",
    "print('Please enter your lower limit')\n",
    "low = int(input())\n",
    "\n",
    "print('Please enter your higher limit')\n",
    "high = int(input())\n",
    "\n",
    "secret_num = random.randint(low, high)\n",
    "\n",
    "print('Please enter how many guesses you would like to take')\n",
    "times = int(input())\n",
    "\n",
    "print('The number you have to guess is between ' + str(low) + ' and ' + str(high))\n",
    "\n",
    "for i in range(1,times):\n",
    "    print('Guess your number')\n",
    "    inp = int(input())\n",
    "    \n",
    "    if inp == secret_num:\n",
    "        break\n",
    "    elif inp < secret_num:\n",
    "        print('Your guess is too low')\n",
    "    elif inp > secret_num:\n",
    "        print('Your guess is too high')\n",
    "    else:\n",
    "        break\n",
    "\n",
    "if inp == secret_num:\n",
    "    print('Congrats you have guessed the correct number in ' + str(i) + \" th try\")\n",
    "else:\n",
    "    print('Sorry you have exceeded the number of tries, the correct num was ' + str(secret_num))"
   ]
  },
  {
   "cell_type": "code",
   "execution_count": null,
   "metadata": {},
   "outputs": [],
   "source": []
  }
 ],
 "metadata": {
  "kernelspec": {
   "display_name": "Python 3",
   "language": "python",
   "name": "python3"
  },
  "language_info": {
   "codemirror_mode": {
    "name": "ipython",
    "version": 3
   },
   "file_extension": ".py",
   "mimetype": "text/x-python",
   "name": "python",
   "nbconvert_exporter": "python",
   "pygments_lexer": "ipython3",
   "version": "3.7.6"
  }
 },
 "nbformat": 4,
 "nbformat_minor": 4
}
